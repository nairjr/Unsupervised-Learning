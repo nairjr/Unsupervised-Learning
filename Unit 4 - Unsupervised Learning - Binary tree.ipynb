{
 "cells": [
  {
   "cell_type": "code",
   "execution_count": 10,
   "metadata": {},
   "outputs": [],
   "source": [
    "import random"
   ]
  },
  {
   "cell_type": "code",
   "execution_count": 12,
   "metadata": {},
   "outputs": [],
   "source": [
    "\n",
    "# Recursive Python program for level order traversal of Binary Tree \n",
    "  \n",
    "# A node structure \n",
    "class Node: \n",
    "  \n",
    "    # A utility function to create a new node \n",
    "    def __init__(self, key): \n",
    "        self.data = key  \n",
    "        self.left = None\n",
    "        self.right = None\n",
    "  \n",
    "  \n",
    "# Function to  print level order traversal of tree \n",
    "def printLevelOrder(root): \n",
    "    h = height(root) \n",
    "    for i in range(1, h+1): \n",
    "        printGivenLevel(root, i) \n",
    "  \n",
    "  \n",
    "# Print nodes at a given level \n",
    "def printGivenLevel(root , level): \n",
    "    if root is None: \n",
    "        return\n",
    "    if level == 1: \n",
    "        print (\"%d\" %(root.data)), \n",
    "    elif level > 1 : \n",
    "        printGivenLevel(root.left , level-1) \n",
    "        printGivenLevel(root.right , level-1) \n",
    "  \n",
    "  \n",
    "\"\"\" Compute the height of a tree--the number of nodes \n",
    "    along the longest path from the root node down to \n",
    "    the farthest leaf node \n",
    "\"\"\"\n",
    "def height(node): \n",
    "    if node is None: \n",
    "        return 0 \n",
    "    else : \n",
    "        # Compute the height of each subtree  \n",
    "        lheight = height(node.left) \n",
    "        rheight = height(node.right) \n",
    "  \n",
    "        #Use the larger one \n",
    "        if lheight > rheight : \n",
    "            return lheight+1\n",
    "        else: \n",
    "            return rheight+1\n",
    "\n",
    "        "
   ]
  },
  {
   "cell_type": "code",
   "execution_count": 14,
   "metadata": {},
   "outputs": [
    {
     "name": "stdout",
     "output_type": "stream",
     "text": [
      "Level order traversal of binary tree is -\n",
      "1\n",
      "2\n",
      "3\n",
      "4\n",
      "5\n",
      "6\n",
      "7\n",
      "8\n",
      "9\n",
      "10\n",
      "11\n",
      "12\n",
      "13\n",
      "14\n",
      "15\n"
     ]
    }
   ],
   "source": [
    "# Establish the initial root node and children\n",
    "root = Node(1)\n",
    "root.left = Node(2)\n",
    "root.right = Node(3)\n",
    "\n",
    "# Add the appropriate children for 2 and 3\n",
    "root.left.left = Node(4)\n",
    "root.left.right = Node(5)\n",
    "root.right.left = Node(6)\n",
    "root.right.right = Node(7)\n",
    "\n",
    "#last children\n",
    "root.left.left.left = Node(8)\n",
    "root.left.left.right = Node(9)\n",
    "root.left.right.left = Node(10)\n",
    "root.left.right.right = Node(11)\n",
    "root.right.left.left = Node(12)\n",
    "root.right.left.right = Node(13)\n",
    "root.right.right.left = Node(14)\n",
    "root.right.right.right = Node(15)\n",
    "\n",
    "print(\"Level order traversal of binary tree is -\")\n",
    "printLevelOrder(root)"
   ]
  },
  {
   "cell_type": "markdown",
   "metadata": {},
   "source": [
    "https://www.geeksforgeeks.org/level-order-tree-traversal/"
   ]
  },
  {
   "cell_type": "code",
   "execution_count": null,
   "metadata": {},
   "outputs": [],
   "source": []
  }
 ],
 "metadata": {
  "kernelspec": {
   "display_name": "Python 3",
   "language": "python",
   "name": "python3"
  },
  "language_info": {
   "codemirror_mode": {
    "name": "ipython",
    "version": 3
   },
   "file_extension": ".py",
   "mimetype": "text/x-python",
   "name": "python",
   "nbconvert_exporter": "python",
   "pygments_lexer": "ipython3",
   "version": "3.7.0"
  },
  "toc": {
   "base_numbering": 1,
   "nav_menu": {},
   "number_sections": true,
   "sideBar": true,
   "skip_h1_title": false,
   "title_cell": "Table of Contents",
   "title_sidebar": "Contents",
   "toc_cell": false,
   "toc_position": {},
   "toc_section_display": true,
   "toc_window_display": false
  }
 },
 "nbformat": 4,
 "nbformat_minor": 2
}
