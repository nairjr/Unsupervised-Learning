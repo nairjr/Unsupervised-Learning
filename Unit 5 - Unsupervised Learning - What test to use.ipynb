{
 "cells": [
  {
   "cell_type": "markdown",
   "metadata": {},
   "source": [
    "Using selected questions from the 2012 and 2014 editions of the European Social Survey, address the following questions. Keep track of your code and results in a Jupyter notebook or other source that you can share with your mentor. For each question, explain why you chose the approach you did.\n",
    "\n",
    "Here is the data file. And here is the codebook, with information about the variable coding and content.\n",
    "\n",
    "In this dataset, the same participants answered questions in 2012 and again 2014.\n",
    "\n",
    "1. Did people become less trusting from 2012 to 2014? Compute results for each country in the sample.\n",
    "2. Did people become happier from 2012 to 2014? Compute results for each country in the sample.\n",
    "3. Who reported watching more TV in 2012, men or women?\n",
    "4. Who was more likely to believe people were fair in 2012, people living with a partner or people living alone?\n",
    "5. Pick three or four of the countries in the sample and compare how often people met socially in 2014. Are there differences, and if so, which countries stand out?\n",
    "6. Pick three or four of the countries in the sample and compare how often people took part in social activities, relative to others their age, in 2014. Are there differences, and if so, which countries stand out?\n",
    "\n",
    "https://raw.githubusercontent.com/Thinkful-Ed/data-201-resources/master/ESS_practice_data/ESSdata_Thinkful.csv\n",
    "\n",
    "https://thinkful-ed.github.io/data-201-resources/ESS_practice_data/ESS_codebook.html\n",
    "\n",
    "http://www.europeansocialsurvey.org/data/round-index.html"
   ]
  },
  {
   "cell_type": "markdown",
   "metadata": {},
   "source": [
    "\n",
    "<table border=\"1\">\n",
    "<tr>\n",
    "<th>Experiment Type</th>\n",
    "<th colspan=\"2\">Normally Distributed</th>\n",
    "<th colspan=\"2\">Non-Normally Distributed</th>\n",
    "</tr>\n",
    "<tr>\n",
    "<th></th>\n",
    "<th>Test</th>\n",
    "<th>Function</th>\n",
    "<th>Test</th>\n",
    "<th>Function</th>\n",
    "</tr>\n",
    "<tr>\n",
    "<td>A/B test, two independent groups</td>\n",
    "<td>t-test for independent samples</td>\n",
    "<td>[`scipy.stats.ttest_ind`] (https://docs.scipy.org/doc/scipy/reference/generated/scipy.stats.ttest_ind.html#scipy.stats.ttest_ind)</td>\n",
    "<td>Mann-Whitney U test<br>\n",
    "Moon's Median Test<br>\n",
    "Kruskal-Wallis Test</td>\n",
    "<td>[`scipy.stats.mannwhitneyu`] (https://docs.scipy.org/doc/scipy/reference/generated/scipy.stats.mannwhitneyu.html#scipy.stats.mannwhitneyu)<br>\n",
    "[`scipy.stats.median_test`] (https://docs.scipy.org/doc/scipy/reference/generated/scipy.stats.median_test.html#scipy.stats.median_test)<br>\n",
    "[`scipy.stats.kruskal`] (https://docs.scipy.org/doc/scipy/reference/generated/scipy.stats.kruskal.html#scipy.stats.kruskal)</td>\n",
    "</tr>\n",
    "<tr>\n",
    "<td>A/B/C/… test, three or more independent groups</td>\n",
    "<td>One-way ANOVA</td>\n",
    "<td>[`scipy.stats.f_oneway`] (https://docs.scipy.org/doc/scipy/reference/generated/scipy.stats.f_oneway.html#scipy.stats.f_oneway)</td>\n",
    "<td>Mood’s median test<br>\n",
    "Kruskal-Wallis test</td>\n",
    "<td>[`scipy.stats.median_test`] (https://docs.scipy.org/doc/scipy/reference/generated/scipy.stats.median_test.html#scipy.stats.median_test)<br>\n",
    "[`scipy.stats.kruskal`] (https://docs.scipy.org/doc/scipy/reference/generated/scipy.stats.kruskal.html#scipy.stats.kruskal)</td>\n",
    "</tr>\n",
    "<tr>\n",
    "<td>A/B test where all participants experience both versions</td>\n",
    "<td>t-test for paired samples</td>\n",
    "<td> [`scipy.stats.ttest_rel`](https://docs.scipy.org/doc/scipy/reference/generated/scipy.stats.ttest_rel.html#scipy.stats.ttest_rel) </td>\n",
    "<td>Wilcoxon signed-rank test</td>\n",
    "<td>[`scipy.stats.wilcoxon`](https://docs.scipy.org/doc/scipy/reference/generated/scipy.stats.wilcoxon.html#scipy.stats.wilcoxon)</td>\n",
    "</tr>\n",
    "</table>\n",
    "\n"
   ]
  },
  {
   "cell_type": "code",
   "execution_count": 1,
   "metadata": {},
   "outputs": [],
   "source": [
    "import pandas as pd\n",
    "import numpy as np\n",
    "import matplotlib.pyplot as plt\n",
    "import seaborn as sns\n",
    "import scipy.stats as stats\n",
    "%matplotlib inline\n",
    "#Tukey's Honest Significant Difference (HSD)\n",
    "from statsmodels.stats.multicomp import pairwise_tukeyhsd"
   ]
  },
  {
   "cell_type": "code",
   "execution_count": 33,
   "metadata": {},
   "outputs": [
    {
     "name": "stdout",
     "output_type": "stream",
     "text": [
      "<class 'pandas.core.frame.DataFrame'>\n",
      "RangeIndex: 8594 entries, 0 to 8593\n",
      "Data columns (total 13 columns):\n",
      "cntry      8594 non-null object\n",
      "idno       8594 non-null float64\n",
      "year       8594 non-null int64\n",
      "tvtot      8586 non-null float64\n",
      "ppltrst    8580 non-null float64\n",
      "pplfair    8555 non-null float64\n",
      "pplhlp     8569 non-null float64\n",
      "happy      8563 non-null float64\n",
      "sclmeet    8579 non-null float64\n",
      "sclact     8500 non-null float64\n",
      "gndr       8584 non-null float64\n",
      "agea       8355 non-null float64\n",
      "partner    8577 non-null float64\n",
      "dtypes: float64(11), int64(1), object(1)\n",
      "memory usage: 872.9+ KB\n",
      "None\n",
      "               idno         year        tvtot      ppltrst      pplfair  \\\n",
      "count  8.594000e+03  8594.000000  8586.000000  8580.000000  8555.000000   \n",
      "mean   3.954938e+04     6.500000     3.861985     5.559907     6.005143   \n",
      "std    6.267259e+05     0.500029     2.019689     2.233700     2.129866   \n",
      "min    1.000000e+00     6.000000     0.000000     0.000000     0.000000   \n",
      "25%    1.052000e+03     6.000000     2.000000     4.000000     5.000000   \n",
      "50%    1.714000e+03     6.500000     4.000000     6.000000     6.000000   \n",
      "75%    2.745000e+03     7.000000     5.000000     7.000000     8.000000   \n",
      "max    1.100143e+07     7.000000     7.000000    10.000000    10.000000   \n",
      "\n",
      "            pplhlp        happy      sclmeet       sclact         gndr  \\\n",
      "count  8569.000000  8563.000000  8579.000000  8500.000000  8584.000000   \n",
      "mean      5.319874     7.694616     5.192563     2.748941     1.497204   \n",
      "std       2.173449     1.735904     1.457643     0.905477     0.500021   \n",
      "min       0.000000     0.000000     1.000000     1.000000     1.000000   \n",
      "25%       4.000000     7.000000     4.000000     2.000000     1.000000   \n",
      "50%       5.000000     8.000000     6.000000     3.000000     1.000000   \n",
      "75%       7.000000     9.000000     6.000000     3.000000     2.000000   \n",
      "max      10.000000    10.000000     7.000000     5.000000     2.000000   \n",
      "\n",
      "              agea      partner  \n",
      "count  8355.000000  8577.000000  \n",
      "mean     47.470736     1.384867  \n",
      "std      18.397369     0.486592  \n",
      "min      15.000000     1.000000  \n",
      "25%      33.000000     1.000000  \n",
      "50%      47.000000     1.000000  \n",
      "75%      62.000000     2.000000  \n",
      "max     114.000000     2.000000  \n"
     ]
    }
   ],
   "source": [
    "df = pd.read_csv('https://raw.githubusercontent.com/Thinkful-Ed/data-201-resources/master/ESS_practice_data/ESSdata_Thinkful.csv')\n",
    "\n",
    "print(df.info())\n",
    "print(df.describe())"
   ]
  },
  {
   "cell_type": "markdown",
   "metadata": {},
   "source": [
    "1. Did people become less trusting from 2012 to 2014? Compute results for each country in the sample.\n",
    "\n",
    "2. Did people become happier from 2012 to 2014? Compute results for each country in the sample.\n",
    "\n",
    "3. Who reported watching more TV in 2012, men or women?\n",
    "\n",
    "4. Who was more likely to believe people were fair in 2012, people living with a partner or people living alone?\n",
    "\n",
    "5. Pick three or four of the countries in the sample and compare how often people met socially in 2014. Are there differences, and if so, which countries stand out?\n",
    "\n",
    "6. Pick three or four of the countries in the sample and compare how often people took part in social activities, relative to others their age, in 2014. Are there differences, and if so, which countries stand out?"
   ]
  },
  {
   "cell_type": "code",
   "execution_count": 34,
   "metadata": {},
   "outputs": [
    {
     "data": {
      "text/html": [
       "<div>\n",
       "<style scoped>\n",
       "    .dataframe tbody tr th:only-of-type {\n",
       "        vertical-align: middle;\n",
       "    }\n",
       "\n",
       "    .dataframe tbody tr th {\n",
       "        vertical-align: top;\n",
       "    }\n",
       "\n",
       "    .dataframe thead th {\n",
       "        text-align: right;\n",
       "    }\n",
       "</style>\n",
       "<table border=\"1\" class=\"dataframe\">\n",
       "  <thead>\n",
       "    <tr style=\"text-align: right;\">\n",
       "      <th></th>\n",
       "      <th>cntry</th>\n",
       "      <th>idno</th>\n",
       "      <th>year</th>\n",
       "      <th>tvtot</th>\n",
       "      <th>ppltrst</th>\n",
       "      <th>pplfair</th>\n",
       "      <th>pplhlp</th>\n",
       "      <th>happy</th>\n",
       "      <th>sclmeet</th>\n",
       "      <th>sclact</th>\n",
       "      <th>gndr</th>\n",
       "      <th>agea</th>\n",
       "      <th>partner</th>\n",
       "    </tr>\n",
       "  </thead>\n",
       "  <tbody>\n",
       "    <tr>\n",
       "      <th>0</th>\n",
       "      <td>CH</td>\n",
       "      <td>5.0</td>\n",
       "      <td>6</td>\n",
       "      <td>3.0</td>\n",
       "      <td>3.0</td>\n",
       "      <td>10.0</td>\n",
       "      <td>5.0</td>\n",
       "      <td>8.0</td>\n",
       "      <td>5.0</td>\n",
       "      <td>4.0</td>\n",
       "      <td>2.0</td>\n",
       "      <td>60.0</td>\n",
       "      <td>1.0</td>\n",
       "    </tr>\n",
       "    <tr>\n",
       "      <th>1</th>\n",
       "      <td>CH</td>\n",
       "      <td>25.0</td>\n",
       "      <td>6</td>\n",
       "      <td>6.0</td>\n",
       "      <td>5.0</td>\n",
       "      <td>7.0</td>\n",
       "      <td>5.0</td>\n",
       "      <td>9.0</td>\n",
       "      <td>3.0</td>\n",
       "      <td>2.0</td>\n",
       "      <td>2.0</td>\n",
       "      <td>59.0</td>\n",
       "      <td>1.0</td>\n",
       "    </tr>\n",
       "    <tr>\n",
       "      <th>2</th>\n",
       "      <td>CH</td>\n",
       "      <td>26.0</td>\n",
       "      <td>6</td>\n",
       "      <td>1.0</td>\n",
       "      <td>8.0</td>\n",
       "      <td>8.0</td>\n",
       "      <td>8.0</td>\n",
       "      <td>7.0</td>\n",
       "      <td>6.0</td>\n",
       "      <td>3.0</td>\n",
       "      <td>1.0</td>\n",
       "      <td>24.0</td>\n",
       "      <td>2.0</td>\n",
       "    </tr>\n",
       "    <tr>\n",
       "      <th>3</th>\n",
       "      <td>CH</td>\n",
       "      <td>28.0</td>\n",
       "      <td>6</td>\n",
       "      <td>4.0</td>\n",
       "      <td>6.0</td>\n",
       "      <td>6.0</td>\n",
       "      <td>7.0</td>\n",
       "      <td>10.0</td>\n",
       "      <td>6.0</td>\n",
       "      <td>2.0</td>\n",
       "      <td>2.0</td>\n",
       "      <td>64.0</td>\n",
       "      <td>1.0</td>\n",
       "    </tr>\n",
       "    <tr>\n",
       "      <th>4</th>\n",
       "      <td>CH</td>\n",
       "      <td>29.0</td>\n",
       "      <td>6</td>\n",
       "      <td>5.0</td>\n",
       "      <td>6.0</td>\n",
       "      <td>7.0</td>\n",
       "      <td>5.0</td>\n",
       "      <td>8.0</td>\n",
       "      <td>7.0</td>\n",
       "      <td>2.0</td>\n",
       "      <td>2.0</td>\n",
       "      <td>55.0</td>\n",
       "      <td>1.0</td>\n",
       "    </tr>\n",
       "  </tbody>\n",
       "</table>\n",
       "</div>"
      ],
      "text/plain": [
       "  cntry  idno  year  tvtot  ppltrst  pplfair  pplhlp  happy  sclmeet  sclact  \\\n",
       "0    CH   5.0     6    3.0      3.0     10.0     5.0    8.0      5.0     4.0   \n",
       "1    CH  25.0     6    6.0      5.0      7.0     5.0    9.0      3.0     2.0   \n",
       "2    CH  26.0     6    1.0      8.0      8.0     8.0    7.0      6.0     3.0   \n",
       "3    CH  28.0     6    4.0      6.0      6.0     7.0   10.0      6.0     2.0   \n",
       "4    CH  29.0     6    5.0      6.0      7.0     5.0    8.0      7.0     2.0   \n",
       "\n",
       "   gndr  agea  partner  \n",
       "0   2.0  60.0      1.0  \n",
       "1   2.0  59.0      1.0  \n",
       "2   1.0  24.0      2.0  \n",
       "3   2.0  64.0      1.0  \n",
       "4   2.0  55.0      1.0  "
      ]
     },
     "execution_count": 34,
     "metadata": {},
     "output_type": "execute_result"
    }
   ],
   "source": [
    "df.head()"
   ]
  },
  {
   "cell_type": "markdown",
   "metadata": {},
   "source": [
    "**Note**: Year 6 = 2012 and Year 7 = 2014"
   ]
  },
  {
   "cell_type": "markdown",
   "metadata": {},
   "source": [
    "### Data Cleaning"
   ]
  },
  {
   "cell_type": "code",
   "execution_count": 3,
   "metadata": {},
   "outputs": [
    {
     "data": {
      "text/plain": [
       "cntry        0\n",
       "idno         0\n",
       "year         0\n",
       "tvtot        8\n",
       "ppltrst     14\n",
       "pplfair     39\n",
       "pplhlp      25\n",
       "happy       31\n",
       "sclmeet     15\n",
       "sclact      94\n",
       "gndr        10\n",
       "agea       239\n",
       "partner     17\n",
       "dtype: int64"
      ]
     },
     "execution_count": 3,
     "metadata": {},
     "output_type": "execute_result"
    }
   ],
   "source": [
    "#Fix nulls and data types\n",
    "df.isnull().sum()"
   ]
  },
  {
   "cell_type": "code",
   "execution_count": 4,
   "metadata": {},
   "outputs": [],
   "source": [
    "df =df.fillna(df.median())"
   ]
  },
  {
   "cell_type": "markdown",
   "metadata": {},
   "source": [
    "\n",
    "**Did people become less trusting from 2012 to 2014?**"
   ]
  },
  {
   "cell_type": "code",
   "execution_count": 5,
   "metadata": {},
   "outputs": [
    {
     "data": {
      "text/plain": [
       "ES    2426\n",
       "SE    1816\n",
       "CH    1546\n",
       "NO    1462\n",
       "CZ    1316\n",
       "DE      28\n",
       "Name: cntry, dtype: int64"
      ]
     },
     "execution_count": 5,
     "metadata": {},
     "output_type": "execute_result"
    }
   ],
   "source": [
    "#how many countries are there?\n",
    "df['cntry'].value_counts()\n",
    "\n"
   ]
  },
  {
   "cell_type": "code",
   "execution_count": 6,
   "metadata": {},
   "outputs": [
    {
     "name": "stdout",
     "output_type": "stream",
     "text": [
      "['CH', 'CZ', 'DE', 'ES', 'NO', 'SE']\n",
      "There are 6 countries to compare.\n"
     ]
    }
   ],
   "source": [
    "#use set to get unique values\n",
    "\n",
    "#dfc = set(df['cntry'])\n",
    "dfc =  df.cntry.unique().tolist()\n",
    "print(dfc)\n",
    "print('There are {} countries to compare.'.format(len(dfc)))"
   ]
  },
  {
   "cell_type": "code",
   "execution_count": 22,
   "metadata": {},
   "outputs": [
    {
     "data": {
      "image/png": "[encoded data removed]",
      "text/plain": [
       "<Figure size 432x288 with 1 Axes>"
      ]
     },
     "metadata": {
      "needs_background": "light"
     },
     "output_type": "display_data"
    },
    {
     "data": {
      "image/png": "[encoded data removed]",
      "text/plain": [
       "<Figure size 432x288 with 1 Axes>"
      ]
     },
     "metadata": {
      "needs_background": "light"
     },
     "output_type": "display_data"
    },
    {
     "data": {
      "image/png": "[encoded data removed]",
      "text/plain": [
       "<Figure size 432x288 with 1 Axes>"
      ]
     },
     "metadata": {
      "needs_background": "light"
     },
     "output_type": "display_data"
    },
    {
     "data": {
      "image/png": "[encoded data removed]",
      "text/plain": [
       "<Figure size 432x288 with 1 Axes>"
      ]
     },
     "metadata": {
      "needs_background": "light"
     },
     "output_type": "display_data"
    },
    {
     "data": {
      "image/png": "[encoded data removed]",
      "text/plain": [
       "<Figure size 432x288 with 1 Axes>"
      ]
     },
     "metadata": {
      "needs_background": "light"
     },
     "output_type": "display_data"
    },
    {
     "data": {
      "image/png": "[encoded data removed]",
      "text/plain": [
       "<Figure size 432x288 with 1 Axes>"
      ]
     },
     "metadata": {
      "needs_background": "light"
     },
     "output_type": "display_data"
    }
   ],
   "source": [
    "# We can do A/B Test\n",
    "# people trust and country\n",
    "for country in dfc:\n",
    "    \n",
    "    plt.hist(df['ppltrst'][(df['cntry'] == country) & (df['year']==6)], alpha=.5)\n",
    "    plt.hist(df['ppltrst'][(df['cntry'] == country) & (df['year']==7)], alpha=.5)\n",
    "    \n",
    "    \n",
    "    plt.title('people trust over the years')\n",
    "    plt.legend(country)\n",
    "    \n",
    "    plt.show()"
   ]
  },
  {
   "cell_type": "code",
   "execution_count": 31,
   "metadata": {},
   "outputs": [
    {
     "name": "stdout",
     "output_type": "stream",
     "text": [
      "\n",
      " CH\n",
      "2012 mean: 5.677878395860285\n",
      "2014 mean: 5.751617076326003\n",
      "WilcoxonResult(statistic=106278.5, pvalue=0.4411286510952477)\n",
      "\n",
      " CZ\n",
      "2012 mean: 4.379939209726444\n",
      "2014 mean: 4.427051671732523\n",
      "WilcoxonResult(statistic=85832.5, pvalue=0.7452250434946176)\n",
      "\n",
      " DE\n",
      "2012 mean: 5.214285714285714\n",
      "2014 mean: 5.357142857142857\n",
      "WilcoxonResult(statistic=44.0, pvalue=0.9157134600899863)\n",
      "\n",
      " ES\n",
      "2012 mean: 5.114591920857379\n",
      "2014 mean: 4.896949711459192\n",
      "WilcoxonResult(statistic=243886.5, pvalue=0.007377786388515002)\n",
      "\n",
      " NO\n",
      "2012 mean: 6.648426812585499\n",
      "2014 mean: 6.59781121751026\n",
      "WilcoxonResult(statistic=85536.0, pvalue=0.6900902292621642)\n",
      "\n",
      " SE\n",
      "2012 mean: 6.058370044052864\n",
      "2014 mean: 6.257709251101321\n",
      "WilcoxonResult(statistic=131329.0, pvalue=0.03679036784404652)\n"
     ]
    }
   ],
   "source": [
    "for country in dfc:\n",
    "    print('\\n', country)\n",
    "    print('2012 mean: ' + str(df['ppltrst'][(df['cntry'] == country) & (df['year']==6)].mean()))\n",
    "    print('2014 mean: ' + str(df['ppltrst'][(df['cntry'] == country) & (df['year']==7)].mean()))  \n",
    "    print(stats.wilcoxon(df['ppltrst'][(df['cntry'] == country) & (df['year']==6)], \n",
    "                          df['ppltrst'][(df['cntry'] == country) & (df['year']==7)]\n",
    "                         ))"
   ]
  },
  {
   "cell_type": "markdown",
   "metadata": {},
   "source": [
    "Spain decreased trust. \n",
    "<br>\n",
    "Sweden increased trust.\n",
    "<br>\n",
    "P-values indicate that there was a significant change.\n",
    "<br>\n",
    "Wilcoxon signed-rank test should be used as we can see that the idstributions are not normal."
   ]
  },
  {
   "cell_type": "markdown",
   "metadata": {},
   "source": [
    "**Did people become happier from 2012 to 2014?**"
   ]
  },
  {
   "cell_type": "code",
   "execution_count": 24,
   "metadata": {},
   "outputs": [
    {
     "data": {
      "image/png": "[encoded data removed]",
      "text/plain": [
       "<Figure size 432x288 with 1 Axes>"
      ]
     },
     "metadata": {
      "needs_background": "light"
     },
     "output_type": "display_data"
    },
    {
     "data": {
      "image/png": "[encoded data removed]",
      "text/plain": [
       "<Figure size 432x288 with 1 Axes>"
      ]
     },
     "metadata": {
      "needs_background": "light"
     },
     "output_type": "display_data"
    },
    {
     "data": {
      "image/png": "[encoded data removed]",
      "text/plain": [
       "<Figure size 432x288 with 1 Axes>"
      ]
     },
     "metadata": {
      "needs_background": "light"
     },
     "output_type": "display_data"
    },
    {
     "data": {
      "image/png": "[encoded data removed]",
      "text/plain": [
       "<Figure size 432x288 with 1 Axes>"
      ]
     },
     "metadata": {
      "needs_background": "light"
     },
     "output_type": "display_data"
    },
    {
     "data": {
      "image/png": "[encoded data removed]",
      "text/plain": [
       "<Figure size 432x288 with 1 Axes>"
      ]
     },
     "metadata": {
      "needs_background": "light"
     },
     "output_type": "display_data"
    },
    {
     "data": {
      "image/png": "[encoded data removed]",
      "text/plain": [
       "<Figure size 432x288 with 1 Axes>"
      ]
     },
     "metadata": {
      "needs_background": "light"
     },
     "output_type": "display_data"
    }
   ],
   "source": [
    "for country in dfc:\n",
    "    \n",
    "    plt.hist(df['happy'][(df['cntry'] == country) & (df['year']==6)], alpha=.5)\n",
    "    plt.hist(df['happy'][(df['cntry'] == country) & (df['year']==7)], alpha=.5)\n",
    "    \n",
    "    \n",
    "    plt.title('people trust over the years')\n",
    "    plt.legend(country)\n",
    "    \n",
    "    plt.show()"
   ]
  },
  {
   "cell_type": "code",
   "execution_count": 27,
   "metadata": {},
   "outputs": [
    {
     "name": "stdout",
     "output_type": "stream",
     "text": [
      "\n",
      " CH\n",
      "2012 mean: 8.08796895213454\n",
      "2014 mean: 8.116429495472186\n",
      "WilcoxonResult(statistic=93384.0, pvalue=0.9248463130390704)\n",
      "\n",
      " CZ\n",
      "2012 mean: 6.793313069908814\n",
      "2014 mean: 6.924012158054711\n",
      "WilcoxonResult(statistic=78000.5, pvalue=0.2829630838149413)\n",
      "\n",
      " DE\n",
      "2012 mean: 7.428571428571429\n",
      "2014 mean: 7.857142857142857\n",
      "WilcoxonResult(statistic=23.5, pvalue=0.393351316918508)\n",
      "\n",
      " ES\n",
      "2012 mean: 7.549051937345425\n",
      "2014 mean: 7.4204451772464965\n",
      "WilcoxonResult(statistic=232720.5, pvalue=0.059772872562481524)\n",
      "\n",
      " NO\n",
      "2012 mean: 8.250341997264021\n",
      "2014 mean: 7.9151846785225715\n",
      "WilcoxonResult(statistic=68546.0, pvalue=1.1346429849504098e-05)\n",
      "\n",
      " SE\n",
      "2012 mean: 7.907488986784141\n",
      "2014 mean: 7.947136563876652\n",
      "WilcoxonResult(statistic=126465.0, pvalue=0.682451144037987)\n"
     ]
    }
   ],
   "source": [
    "for country in dfc:\n",
    "    print('\\n', country)\n",
    "    print('2012 mean: ' + str(df['happy'][(df['cntry'] == country) & (df['year']==6)].mean()))\n",
    "    print('2014 mean: ' + str(df['happy'][(df['cntry'] == country) & (df['year']==7)].mean()))  \n",
    "    print(stats.wilcoxon(df['happy'][(df['cntry'] == country) & (df['year']==6)], \n",
    "                          df['happy'][(df['cntry'] == country) & (df['year']==7)]\n",
    "                         ))"
   ]
  },
  {
   "cell_type": "markdown",
   "metadata": {},
   "source": [
    "Spain's p-value is low.\n",
    "<br>\n",
    "Most other countries were happier, except Norway."
   ]
  },
  {
   "cell_type": "markdown",
   "metadata": {},
   "source": [
    "**Who reported watching more TV in 2012, men or women?**"
   ]
  },
  {
   "cell_type": "code",
   "execution_count": 48,
   "metadata": {},
   "outputs": [
    {
     "data": {
      "image/png": "[encoded data removed]",
      "text/plain": [
       "<Figure size 720x288 with 2 Axes>"
      ]
     },
     "metadata": {
      "needs_background": "light"
     },
     "output_type": "display_data"
    }
   ],
   "source": [
    "#same method of country and ppltrst, \n",
    "#but use gender and tvtot instead.\n",
    "#male = 1\n",
    "#female = 2\n",
    "#Year == 6\n",
    "\n",
    " \n",
    "df_male = df['tvtot'][(df['gndr'] == 1.0) & (df['year'] == 6)]\n",
    "df_female = df['tvtot'][(df['gndr'] == 2.0) & (df['year'] == 6)]\n",
    "\n",
    "fig, axs = plt.subplots(1, 2, figsize=(10,4))\n",
    "\n",
    "axs[0].hist(df_male.dropna())\n",
    "axs[1].hist(df_female.dropna())\n",
    "\n",
    "fig.text(0.5, 0, \"TVTotal '12\")\n",
    "axs[0].set_title('Male')\n",
    "axs[1].set_title('Female')\n",
    "    \n",
    "plt.tight_layout()\n",
    "plt.show()"
   ]
  },
  {
   "cell_type": "code",
   "execution_count": 57,
   "metadata": {},
   "outputs": [
    {
     "name": "stdout",
     "output_type": "stream",
     "text": [
      "MannwhitneyuResult(statistic=2277506.5, pvalue=0.22419270231191457)\n"
     ]
    }
   ],
   "source": [
    "#two different groups\n",
    "print(stats.mannwhitneyu(df_male, df_female))\n",
    "#our p-value is high, so we can say there was a change."
   ]
  },
  {
   "cell_type": "code",
   "execution_count": 66,
   "metadata": {},
   "outputs": [
    {
     "name": "stdout",
     "output_type": "stream",
     "text": [
      "Male viewers were 2151 in 2012.\n",
      "Female viewers were 2140 in 2012.\n"
     ]
    }
   ],
   "source": [
    "print('Male viewers were {} in 2012.'.format(df_male.dropna().count()))\n",
    "print('Female viewers were {} in 2012.'.format(df_female.dropna().count()))"
   ]
  },
  {
   "cell_type": "markdown",
   "metadata": {},
   "source": [
    "**Who was more likely to believe people were fair in 2012, people living with a partner or people living alone?**"
   ]
  },
  {
   "cell_type": "code",
   "execution_count": 60,
   "metadata": {},
   "outputs": [
    {
     "name": "stderr",
     "output_type": "stream",
     "text": [
      "C:\\Users\\nairj\\Anaconda3\\lib\\site-packages\\matplotlib\\axes\\_axes.py:6571: UserWarning: The 'normed' kwarg is deprecated, and has been replaced by the 'density' kwarg.\n",
      "  warnings.warn(\"The 'normed' kwarg is deprecated, and has been \"\n",
      "C:\\Users\\nairj\\Anaconda3\\lib\\site-packages\\matplotlib\\axes\\_axes.py:6571: UserWarning: The 'normed' kwarg is deprecated, and has been replaced by the 'density' kwarg.\n",
      "  warnings.warn(\"The 'normed' kwarg is deprecated, and has been \"\n"
     ]
    },
    {
     "data": {
      "image/png": "[encoded data removed]",
      "text/plain": [
       "<Figure size 432x216 with 2 Axes>"
      ]
     },
     "metadata": {
      "needs_background": "light"
     },
     "output_type": "display_data"
    }
   ],
   "source": [
    "#Partner = 1\n",
    "#Single = 2\n",
    "\n",
    "fair = sns.FacetGrid(df,\n",
    "                     col='partner',\n",
    "                     dropna=True,\n",
    "                     sharey=True)\n",
    "\n",
    "fair = fair.map(plt.hist,\n",
    "          'pplfair',\n",
    "          alpha=0.5,\n",
    "          bins=8,\n",
    "          normed=True)"
   ]
  },
  {
   "cell_type": "code",
   "execution_count": 67,
   "metadata": {},
   "outputs": [
    {
     "name": "stdout",
     "output_type": "stream",
     "text": [
      "MannwhitneyuResult(statistic=2277506.5, pvalue=0.22419270231191457)\n"
     ]
    }
   ],
   "source": [
    "print(stats.mannwhitneyu(df_male, df_female))"
   ]
  },
  {
   "cell_type": "code",
   "execution_count": 68,
   "metadata": {},
   "outputs": [],
   "source": [
    "#since we fail to reject, we can say there was a difference.\n",
    "df_partner = df['pplfair'][(df['partner'] == 1.0) & (df['year'] == 6)]\n",
    "df_single = df['pplfair'][(df['partner'] == 2.0) & (df['year'] == 6)]"
   ]
  },
  {
   "cell_type": "code",
   "execution_count": 70,
   "metadata": {},
   "outputs": [
    {
     "name": "stdout",
     "output_type": "stream",
     "text": [
      "Partners median fairness score was 7.0 in 2012.\n",
      "Singles  median fairness score was 6.0 in 2012.\n"
     ]
    }
   ],
   "source": [
    "print('Partners median fairness score was {} in 2012.'.format(df_partner.dropna().median()))\n",
    "print('Singles  median fairness score was {} in 2012.'.format(df_single.dropna().median()))\n",
    "#Using median instead of mean because of not normal distributions."
   ]
  },
  {
   "cell_type": "markdown",
   "metadata": {},
   "source": [
    "**Pick three or four of the countries in the sample and compare how often people met socially in 2014. Are there differences, and if so, which countries stand out?**"
   ]
  },
  {
   "cell_type": "code",
   "execution_count": 73,
   "metadata": {},
   "outputs": [],
   "source": [
    "three_countries = ['ES','CH','NO']\n",
    "dfc14 = df[(df.cntry.isin(three_countries)) & (df.year==7)]"
   ]
  },
  {
   "cell_type": "code",
   "execution_count": 74,
   "metadata": {},
   "outputs": [
    {
     "data": {
      "image/png": "[encoded data removed]",
      "text/plain": [
       "<Figure size 648x216 with 3 Axes>"
      ]
     },
     "metadata": {
      "needs_background": "light"
     },
     "output_type": "display_data"
    }
   ],
   "source": [
    "#Facetgrid\n",
    "#social meet = sclmeet\n",
    "fg = sns.FacetGrid(dfc14, col='cntry', dropna=True, sharey=False)\n",
    "fg = fg.map(plt.hist, 'sclmeet', alpha=0.5, bins=5)\n",
    "\n",
    "plt.show()"
   ]
  },
  {
   "cell_type": "code",
   "execution_count": 95,
   "metadata": {},
   "outputs": [
    {
     "name": "stdout",
     "output_type": "stream",
     "text": [
      "H statistic is: 7.729361944494669\n",
      "The pvalue is : 0.020969611257989122 \n",
      "\n",
      "Reject NULL hypothesis - Significant differences exist between groups.\n"
     ]
    }
   ],
   "source": [
    "#We can use median test or Kruskal,\n",
    "#which is the non-normal version of ANOVA.\n",
    "ES = df['sclmeet'][(df['cntry'] == 'ES') & (df['year'] == 7)].dropna()\n",
    "CH = df['sclmeet'][(df['cntry'] == 'CH') & (df['year'] == 7)].dropna()\n",
    "NO = df['sclmeet'][(df['cntry'] == 'NO') & (df['year'] == 7)].dropna()\n",
    "\n",
    "from scipy.stats import kruskal\n",
    "stat, pval = kruskal(ES,CH,NO)\n",
    "\n",
    "print('H statistic is:', stat)\n",
    "print('The pvalue is :', p, '\\n')\n",
    "\n",
    "if pval < 0.05:\n",
    "    print(\"Reject NULL hypothesis - Significant differences exist between groups.\")\n",
    "if pval > 0.05:\n",
    "    print(\"Accept NULL hypothesis - No significant difference between groups.\")"
   ]
  },
  {
   "cell_type": "code",
   "execution_count": null,
   "metadata": {},
   "outputs": [],
   "source": []
  }
 ],
 "metadata": {
  "kernelspec": {
   "display_name": "Python 3",
   "language": "python",
   "name": "python3"
  },
  "language_info": {
   "codemirror_mode": {
    "name": "ipython",
    "version": 3
   },
   "file_extension": ".py",
   "mimetype": "text/x-python",
   "name": "python",
   "nbconvert_exporter": "python",
   "pygments_lexer": "ipython3",
   "version": "3.7.0"
  },
  "toc": {
   "base_numbering": 1,
   "nav_menu": {},
   "number_sections": true,
   "sideBar": true,
   "skip_h1_title": false,
   "title_cell": "Table of Contents",
   "title_sidebar": "Contents",
   "toc_cell": false,
   "toc_position": {},
   "toc_section_display": true,
   "toc_window_display": false
  }
 },
 "nbformat": 4,
 "nbformat_minor": 2
}
